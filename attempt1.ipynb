{
 "cells": [
  {
   "cell_type": "code",
   "execution_count": 2,
   "id": "18b2416f-489a-4dc2-bf64-b1fbd9404bc4",
   "metadata": {},
   "outputs": [],
   "source": [
    "import pandas as pd\n",
    "from typing import Dict"
   ]
  },
  {
   "cell_type": "code",
   "execution_count": 3,
   "id": "8c668fce-d869-41be-bf61-0ecbd9b5730e",
   "metadata": {},
   "outputs": [],
   "source": [
    "df = pd.read_excel('Nex3_Fuse_for_gui.xlsx')"
   ]
  },
  {
   "cell_type": "code",
   "execution_count": 4,
   "id": "3775d99d-bb29-46b6-9b2c-0337b01286b6",
   "metadata": {},
   "outputs": [
    {
     "data": {
      "text/html": [
       "<div>\n",
       "<style scoped>\n",
       "    .dataframe tbody tr th:only-of-type {\n",
       "        vertical-align: middle;\n",
       "    }\n",
       "\n",
       "    .dataframe tbody tr th {\n",
       "        vertical-align: top;\n",
       "    }\n",
       "\n",
       "    .dataframe thead th {\n",
       "        text-align: right;\n",
       "    }\n",
       "</style>\n",
       "<table border=\"1\" class=\"dataframe\">\n",
       "  <thead>\n",
       "    <tr style=\"text-align: right;\">\n",
       "      <th></th>\n",
       "      <th>Bits</th>\n",
       "      <th>Parameter</th>\n",
       "      <th>Value</th>\n",
       "      <th>Defaults</th>\n",
       "      <th>Description</th>\n",
       "      <th>Value_hex</th>\n",
       "      <th>start_bit</th>\n",
       "      <th>ADD</th>\n",
       "    </tr>\n",
       "  </thead>\n",
       "  <tbody>\n",
       "    <tr>\n",
       "      <th>0</th>\n",
       "      <td>3</td>\n",
       "      <td>inventory_period</td>\n",
       "      <td>5</td>\n",
       "      <td>5</td>\n",
       "      <td>Controls the rate of inventory packets</td>\n",
       "      <td>0x5</td>\n",
       "      <td>0</td>\n",
       "      <td>100</td>\n",
       "    </tr>\n",
       "    <tr>\n",
       "      <th>1</th>\n",
       "      <td>2</td>\n",
       "      <td>tamper_period</td>\n",
       "      <td>1</td>\n",
       "      <td>1</td>\n",
       "      <td>Controls the rate of tamper packets\\n</td>\n",
       "      <td>0x1</td>\n",
       "      <td>3</td>\n",
       "      <td>100</td>\n",
       "    </tr>\n",
       "    <tr>\n",
       "      <th>2</th>\n",
       "      <td>3</td>\n",
       "      <td>eas_period</td>\n",
       "      <td>3</td>\n",
       "      <td>3</td>\n",
       "      <td>Controls the rate of EAS search pattern\\n</td>\n",
       "      <td>0x3</td>\n",
       "      <td>5</td>\n",
       "      <td>100</td>\n",
       "    </tr>\n",
       "    <tr>\n",
       "      <th>3</th>\n",
       "      <td>2</td>\n",
       "      <td>xtal_stabil_time</td>\n",
       "      <td>0</td>\n",
       "      <td>0</td>\n",
       "      <td>Configure time to count for Xtal stabilization...</td>\n",
       "      <td>0x0</td>\n",
       "      <td>8</td>\n",
       "      <td>100</td>\n",
       "    </tr>\n",
       "    <tr>\n",
       "      <th>4</th>\n",
       "      <td>1</td>\n",
       "      <td>bg_replenish_en</td>\n",
       "      <td>0</td>\n",
       "      <td>0</td>\n",
       "      <td>Bandgap charge pulse prior to any TX. This sho...</td>\n",
       "      <td>0x0</td>\n",
       "      <td>10</td>\n",
       "      <td>100</td>\n",
       "    </tr>\n",
       "  </tbody>\n",
       "</table>\n",
       "</div>"
      ],
      "text/plain": [
       "   Bits         Parameter  Value  Defaults  \\\n",
       "0     3  inventory_period      5         5   \n",
       "1     2     tamper_period      1         1   \n",
       "2     3        eas_period      3         3   \n",
       "3     2  xtal_stabil_time      0         0   \n",
       "4     1   bg_replenish_en      0         0   \n",
       "\n",
       "                                         Description Value_hex  start_bit  ADD  \n",
       "0             Controls the rate of inventory packets       0x5          0  100  \n",
       "1              Controls the rate of tamper packets\\n       0x1          3  100  \n",
       "2          Controls the rate of EAS search pattern\\n       0x3          5  100  \n",
       "3  Configure time to count for Xtal stabilization...       0x0          8  100  \n",
       "4  Bandgap charge pulse prior to any TX. This sho...       0x0         10  100  "
      ]
     },
     "execution_count": 4,
     "metadata": {},
     "output_type": "execute_result"
    }
   ],
   "source": [
    "df.head()"
   ]
  },
  {
   "cell_type": "code",
   "execution_count": 5,
   "id": "5a12571e-233b-4aaa-bd0a-2f4a5c107d77",
   "metadata": {},
   "outputs": [],
   "source": [
    "def get_command(changes: Dict[str, int]) -> str:\n",
    "    df = (\n",
    "        pd.read_excel('Nex3_Fuse_for_gui.xlsx')\n",
    "        .assign(new_val=lambda d: d.Value)\n",
    "    )\n",
    "    for parameter, new_val in changes.items():\n",
    "        entry = df.loc[lambda d: d.Parameter == parameter]\n",
    "        assert len(entry) == 1, f'{len(entry)}'\n",
    "        assert 0 <= new_val < 2 ** entry.iloc[0]['Bits'], f'{entry.iloc[0][\"Bits\"]}'\n",
    "        df.loc[lambda d: d.Parameter == parameter, 'new_val'] = new_val\n",
    "    df = (\n",
    "        df\n",
    "        .assign(send_value = lambda d: d.new_val ^ d.Value)\n",
    "        .assign(f = lambda d: d.Bits.map(lambda b: f'0{b}b'))\n",
    "        .sort_values('start_bit')\n",
    "    )\n",
    "    elements = [\n",
    "        f'{send_value:>{f}}'\n",
    "        for send_value, f in zip(df['send_value'], df['f'])\n",
    "    ]\n",
    "\n",
    "    as_binary = ''.join(elements) \n",
    "    return f'0x{int(as_binary, 2):0x}'"
   ]
  },
  {
   "cell_type": "code",
   "execution_count": 6,
   "id": "85e9952e-867e-46a5-a209-9580f7b91f7c",
   "metadata": {},
   "outputs": [
    {
     "data": {
      "text/plain": [
       "'0xa0000000000000000000000000000000000000000000000000000000000000000000000000000000000000000000000000000000000000000'"
      ]
     },
     "execution_count": 6,
     "metadata": {},
     "output_type": "execute_result"
    }
   ],
   "source": [
    "get_command({'eas_period': 6})"
   ]
  },
  {
   "cell_type": "code",
   "execution_count": null,
   "id": "da9cc9b0-1e5a-49ea-a532-438f4fd003b6",
   "metadata": {},
   "outputs": [],
   "source": []
  }
 ],
 "metadata": {
  "kernelspec": {
   "display_name": "Python 3 (ipykernel)",
   "language": "python",
   "name": "python3"
  },
  "language_info": {
   "codemirror_mode": {
    "name": "ipython",
    "version": 3
   },
   "file_extension": ".py",
   "mimetype": "text/x-python",
   "name": "python",
   "nbconvert_exporter": "python",
   "pygments_lexer": "ipython3",
   "version": "3.10.15"
  }
 },
 "nbformat": 4,
 "nbformat_minor": 5
}
